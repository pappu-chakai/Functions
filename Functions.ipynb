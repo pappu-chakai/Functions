{
  "nbformat": 4,
  "nbformat_minor": 0,
  "metadata": {
    "colab": {
      "provenance": []
    },
    "kernelspec": {
      "name": "python3",
      "display_name": "Python 3"
    },
    "language_info": {
      "name": "python"
    }
  },
  "cells": [
    {
      "cell_type": "markdown",
      "source": [],
      "metadata": {
        "id": "UZ_b2KPla7op"
      }
    },
    {
      "cell_type": "code",
      "source": [],
      "metadata": {
        "id": "KxRkKLeqbdzI"
      },
      "execution_count": null,
      "outputs": []
    },
    {
      "cell_type": "markdown",
      "source": [
        "Theory Questions"
      ],
      "metadata": {
        "id": "qNiA960ZOmyH"
      }
    },
    {
      "cell_type": "markdown",
      "source": [
        "Q1. What is the difference between a function and method in python?\n",
        "ANS:- 1. Function is block of code that is also called by its name.\n",
        "         (independent)\n",
        "      2. The function can have different parameters or may not have any at all.\n",
        "         If any data (parameters) are passed, they are passed explicitly.\n",
        "      3. It may or may not return any data.\n",
        "      4. Function does not deal with Class and its instance concept.\n",
        "      examle:\n",
        "      def add(x, y):\n",
        "          return x+y\n",
        "      result = add(5, 3)\n",
        "      result\n",
        "\n",
        "      (Method)\n",
        "      1. Method is called by its name, but it is associated to an object\n",
        "        (dependent).\n",
        "      2. A method definition always includes ‘self’ as its first parameter.\n",
        "      3. A method is implicitly passed to the object on which it is invoked.\n",
        "      4. It may or may not return any data.\n",
        "      5. A method can operate on the data (instance variables) that is      contained by the corresponding class\n",
        "      example:\n",
        "      class ABC :\n",
        "           def method_abc (self):\n",
        "               print(\"I am in method_abc of ABC class. \")\n",
        "\n",
        "      class_ref = ABC() # object of ABC class\n",
        "      class_ref.method_abc()"
      ],
      "metadata": {
        "id": "wijdNx1RKcZ_"
      }
    },
    {
      "cell_type": "markdown",
      "source": [
        "Q2. Explain the concept of funtion arguments and parameters in python?\n",
        "ANS:- Arguments\n",
        "      An argument is a value that is passed to a function when it is called. It might be a variable, value or object passed to a function or method as input.\n",
        "      Arguments are the actual values that you pass to the function when you call it. These values replace the parameters defined in the function.\n",
        "      example:\n",
        "      # Here a,b are the parameters\n",
        "      def sum(a,b):\n",
        "          print(a+b)\n",
        "      sum(1,2)\n",
        "\n",
        "      (Parameters)\n",
        "      Parameters are variables defined in a function declaration. This act as placeholders for the values (arguments) that will be passed to the function.\n",
        "      example:\n",
        "      # Here a,b are the parameters\n",
        "      def sum(a,b):\n",
        "          print(a+b)\n",
        "      sum(1,2)\n"
      ],
      "metadata": {
        "id": "wONAbBuaN_XJ"
      }
    },
    {
      "cell_type": "markdown",
      "source": [
        "Q3. What are the different ways to define and call a function in python?\n",
        "ANS:- Defining a function\n",
        "      1. Use the def keyword\n",
        "      2. Write the function name\n",
        "      3. Add parentheses and a colon\n",
        "      4. Indent with a tab or four space\n",
        "      5. Specify what the function should do\n",
        "\n",
        "      (Calling a function)\n",
        "      1. Call the function from anywhere in the program\n",
        "\n",
        "      example:\n",
        "      # A simple Python function\n",
        "      def fun():\n",
        "          print(\"Welcome to GFG\")\n",
        "      # Driver code to call a function\n",
        "      fun()"
      ],
      "metadata": {
        "id": "6PaRuMIMQDO6"
      }
    },
    {
      "cell_type": "markdown",
      "source": [
        "Q4. What is the purpose of the 'return' statement in a python funtion?\n",
        "ANS:- The function return statement is used to exit from a function and go back\n",
        "      to the function caller and return the specified value or data item to the caller. The syntax for the return statement is:\n",
        "      The return statement can consist of a variable, an expression, or a constant which is returned at the end of the function execution. If none of the above is present with the return statement a None object is returned.\n",
        "      example:\n",
        "      def square_value(num):\n",
        "\n",
        "      \"\"\"This function returns the square\n",
        "      value of the entered number\"\"\"\n",
        "\n",
        "      return num**2\n",
        "\n",
        "\n",
        "      print(square_value(2))\n",
        "      print(square_value(-4))"
      ],
      "metadata": {
        "id": "BBp5qAbiSEAD"
      }
    },
    {
      "cell_type": "markdown",
      "source": [
        "Q5. What are iterators in python and how do they differ from iterables?\n",
        "ANS: A iterator is an object that allows traversal through a countable number\n",
        "     of values. It is used to iterate over iterable objects like lists,tuples,sets, etc.\n",
        "     An Iterable is basically an object that any user can iterate over. An Iterator is also an object that helps a user in iterating over another object (that is iterable). We can generate an iterator when we pass the object to the iter() method.\n",
        "     example:\n",
        "     # list of cities\n",
        "     cities = [\"Berlin\", \"Vienna\", \"Zurich\"]\n",
        "\n",
        "     # initialize the object\n",
        "     iterator_obj = iter(cities)\n",
        "\n",
        "     print(next(iterator_obj))\n",
        "     print(next(iterator_obj))\n",
        "     print(next(iterator_obj))"
      ],
      "metadata": {
        "id": "ERllGxztTF77"
      }
    },
    {
      "cell_type": "markdown",
      "source": [
        "Q6. Explain the concept of generators in python and how they are defined.\n",
        "ANS:- A generator function is a special type of function that returns an\n",
        "      iterator object. Instead of using return to send back a single value, generator functions use yield to produce a series of results over time. This allows the function to generate values and pause its execution after each yield, maintaining its state between iterations.\n",
        "\n",
        "      example:\n",
        "      def fun(max):\n",
        "          cnt = 1\n",
        "          while cnt <= max:\n",
        "                yield cnt\n",
        "                cnt += 1\n",
        "\n",
        "      ctr = fun(5)\n",
        "      for n in ctr:\n",
        "           print(n)\n",
        "\n",
        "      Explanation: This generator function fun yields numbers from 1 up to a\n",
        "      specified max. Each call to next() on the generator object resumes execution right after the yield statement, where it last left off."
      ],
      "metadata": {
        "id": "EzrIqH_qWR0B"
      }
    },
    {
      "cell_type": "markdown",
      "source": [
        "Q7. What are the advantages of using generators over regular functions?\n",
        "ANS:- 1. Efficient Memory usage: Generators do not store the entire sequence in\n",
        "         memory, making them suitable for large datasets or infinite sequence.\n",
        "      2. Simpler syntex: Using yield simplifies the creation of iterators,\n",
        "         making the code more concise and readble.\n",
        "      3. speed: Generators can be faster than regular loops because they avoid\n",
        "         the overhead of creating a list or other data structure to store the results.  \n",
        "      4. lazy evaluation: Generators can produce a sequence of values on the\n",
        "         fly, which allows for lazy evaluation.\n",
        "      5. flexibiity: Generators can generate data dynamically, allowing for  \n",
        "         more flexibility in your code.\n",
        "\n",
        "         example:\n",
        "         def countdown(n):\n",
        "            while n>0:\n",
        "                 yield n\n",
        "                 n -=1\n",
        "        #Creating a generators\n",
        "        gen = countdown(5)\n",
        "        # using the generators\n",
        "        for num in gen:\n",
        "            print(num)"
      ],
      "metadata": {
        "id": "rHXj6Wo0Ycrf"
      }
    },
    {
      "cell_type": "markdown",
      "source": [
        "Q8. What is a lambda function in python and when is it typically used?\n",
        "ANS:- Lambda functions are small, ananymous functions defined using the lambda\n",
        "      keyword. They are used for creating small, therowway functions without the need to formally define a function using def.\n",
        "      example:\n",
        "      square = lambda x: x*x\n",
        "      print(square(5))"
      ],
      "metadata": {
        "id": "0yw_PXc5ct2P"
      }
    },
    {
      "cell_type": "markdown",
      "source": [
        "Q9. Explain the purpose and usage of the 'map()','reduce()',and 'filter()'\n",
        "    functions in python?\n",
        "    ANS:- map()\n",
        "          Python's map() method applies a specified function to each item of an\n",
        "          iterable (such as a list, tuple, or string) and then returns a new iterable containing the results.\n",
        "          The map() syntax is as follows: map(function, iterable)\n",
        "          The first argument passed to the map function is itself a function, and the second argument passed is an iterable (sequence of elements) such as a list, tuple, set, string, etc.\n",
        "          example:\n",
        "          # Using map() to square each element of the data list  \n",
        "          data = [1, 2, 3, 4, 5]  \n",
        "  \n",
        "          # Map function returns the map object  \n",
        "          squares = map(lambda x: x*x, data)  \n",
        "  \n",
        "          # Iterating the elements of the squares  \n",
        "          for i in squares:  \n",
        "          print(i, end=\" \")  \n",
        "  \n",
        "          # Also, we can convert the map object into a list  \n",
        "          squares = list(map(lambda x: x*x, data))  \n",
        "          print(f\"Squares: {squares}\")\n",
        "\n",
        "          reduce()\n",
        "          reduce() - In Python, reduce() is a built-in function that applies a given function to the elements of an iterable, reducing them to a single value.\n",
        "\n",
        "          The syntax for reduce() is as follows: reduce(function, iterable[, initializer])\n",
        "\n",
        "          The function argument is a function that takes two arguments and returns a single value. The first argument is the accumulated value, and the second argument is the current value from the iterable.\n",
        "\n",
        "          example:\n",
        "          # Examples to understand the reduce() function  \n",
        "          from functools import reduce  \n",
        "  \n",
        "          # Function that returns the sum of two numbers  \n",
        "          def add(a, b):  \n",
        "              return a + b  \n",
        "  \n",
        "          # Our Iterable  \n",
        "          num_list = [1, 2, 3, 4, 5, 6, 7, 8, 9, 10]  \n",
        "  \n",
        "          # add function is passed as the first argument, and num_list is passed as the second argument  \n",
        "          sum = reduce(add, num_list)  \n",
        "          print(f\"Sum of the integers of num_list : {sum}\")  \n",
        "  \n",
        "         # Passing 10 as an initial value  \n",
        "         sum = reduce(add, num_list, 10)  \n",
        "         print(f\"Sum of the integers of num_list with initial value 10 : {sum}\")\n",
        "\n",
        "\n",
        "        filter()\n",
        "         filter() - The filter() function in Python filters elements from an iterable based on a given condition or function and returns a new iterable with the filtered elements.\n",
        "\n",
        "         The syntax for the filter() is as follows: filter(function, iterable)\n",
        "\n",
        "         Here also, the first argument passed to the filter function is itself a function, and the second argument passed is an iterable (sequence of elements) such as a list, tuple, set, string, etc.\n",
        "\n",
        "         example:\n",
        "         # Using filter() to filter even numbers from a list  \n",
        "         data = [1, 2, 3, 4, 5]  \n",
        "  \n",
        "         # The filter function filters the even numbers from the data  \n",
        "         # and returns a filter object (an iterable)  \n",
        "         evens = filter(lambda x: x % 2 == 0, data)  \n",
        "  \n",
        "         # Iterating the values of evens  \n",
        "         for i in evens:  \n",
        "         print(i, end=\" \")  \n",
        "  \n",
        "         # We can convert the filter object into a list as follows:  \n",
        "         evens = list(filter(lambda x: x % 2 == 0, data))  \n",
        "  \n",
        "         # Printing the evens list  \n",
        "         print(f\"Evens = {evens}\")"
      ],
      "metadata": {
        "id": "QFa4clgkefyL"
      }
    },
    {
      "cell_type": "markdown",
      "source": [
        "Q10. What is the differene between 'map()','reduce()',and 'filter()' functions\n",
        "     in python?\n",
        "     ANS: 1.  map()\n",
        "             'Map' applies a function to each element in an array and returns an array of the results.\n",
        "             example:\n",
        "             s = ['1', '2', '3', '4']\n",
        "             res = map(int, s)\n",
        "             print(list(res))\n",
        "\n",
        "         2. reduce()\n",
        "            'Reduce' applies a function to the array and returns a single output.\n",
        "            example:\n",
        "            from functools import reduce\n",
        "\n",
        "            # Summing numbers with reduce and lambda\n",
        "            a = [1, 2, 3, 4, 5]\n",
        "            res = reduce(lambda x, y: x + y, a)\n",
        "\n",
        "            print(res)\n",
        "\n",
        "         3. filter()\n",
        "            'Filter' uses a boolean function to select certain elements from an array.\n",
        "            example:\n",
        "            a = [1, 2, 3, 4, 5, 6]\n",
        "            b = filter(lambda x: x % 2 == 0, a)\n",
        "\n",
        "            print(list(b))"
      ],
      "metadata": {
        "id": "s9S0eN5fhaQl"
      }
    },
    {
      "cell_type": "markdown",
      "source": [
        "Q11. Using pen & paper write the internal machanism for sum operator using\n",
        "     reduce function on this given list:[47,11,42,13];\n",
        "     ANS:- let sum = [47, 11, 42, 13].reduce((accumulator, current) =>\n",
        "           accumulator + current, 0);\n",
        "\n",
        "  Explanation\n",
        "  1. The reduce() method in JavaScript adds up all the numbers in an array.\n",
        "  2. The reduce() method takes a function as an argument.\n",
        "  3. The function adds the current value to the accumulator.\n",
        "  4. The final result is stored in the sum variable\n",
        "\n",
        "You can also use the reduce() method to sum the values in an array of objects. To do this, you need to provide an initial value so that each item in the array passes through the function.\n"
      ],
      "metadata": {
        "id": "bjVJPOFGj5xn"
      }
    },
    {
      "cell_type": "markdown",
      "source": [
        "Practical Questions"
      ],
      "metadata": {
        "id": "FfBT2Cwhm3jP"
      }
    },
    {
      "cell_type": "markdown",
      "source": [
        "Q1. Write a python function that takes a list of numbers as input and returns  \n",
        "    the sum of all even numbers in the list.\n"
      ],
      "metadata": {
        "id": "Dnope0IvnBiS"
      }
    },
    {
      "cell_type": "code",
      "source": [
        "def even_sum(list):\n",
        "    sum = 0\n",
        "    for num in list:\n",
        "        if num % 2 == 0:\n",
        "            sum = sum + num\n",
        "    return sum"
      ],
      "metadata": {
        "id": "CcZ3IGfipaBq"
      },
      "execution_count": null,
      "outputs": []
    },
    {
      "cell_type": "code",
      "source": [
        "even_sum([1,2,3,4,5,6,7,8,9,10])"
      ],
      "metadata": {
        "colab": {
          "base_uri": "https://localhost:8080/"
        },
        "id": "SjoP3PoxqbfE",
        "outputId": "215ad211-0ec4-4999-a02d-1d4397a96d25"
      },
      "execution_count": null,
      "outputs": [
        {
          "output_type": "execute_result",
          "data": {
            "text/plain": [
              "30"
            ]
          },
          "metadata": {},
          "execution_count": 3
        }
      ]
    },
    {
      "cell_type": "markdown",
      "source": [
        "Q2 Create a python function that accepts a string and returns the reverse of that string."
      ],
      "metadata": {
        "id": "GcVFtYv7q0EO"
      }
    },
    {
      "cell_type": "code",
      "source": [
        "def reverse_string(str):\n",
        "  str1=\"\"\n",
        "  for i in str:\n",
        "    str1 = i + str1\n",
        "  return str1\n",
        "str = \"sekar\"\n",
        "print(\"The original string is: \",str)\n",
        "print(\"The original string is: \",reverse_string(str))"
      ],
      "metadata": {
        "colab": {
          "base_uri": "https://localhost:8080/"
        },
        "id": "xslEX_EgrM9y",
        "outputId": "77a568b3-f97c-4633-c0fa-c5569619b9d0"
      },
      "execution_count": null,
      "outputs": [
        {
          "output_type": "stream",
          "name": "stdout",
          "text": [
            "The original string is:  sekar\n",
            "The original string is:  rakes\n"
          ]
        }
      ]
    },
    {
      "cell_type": "markdown",
      "source": [
        "Q3. implement a python function that takes a list of integer and returns a new list containing the squares of each number."
      ],
      "metadata": {
        "id": "PVY7WX4Ot92M"
      }
    },
    {
      "cell_type": "code",
      "source": [
        "def square_numbers(numbers):\n",
        "    return [num ** 2 for num in numbers]\n",
        "list = [1, 2, 3, 4, 5]\n",
        "squares_list = square_numbers(list)\n",
        "print(f\"Original list: {list}\")\n",
        "print(f\"new list containing the squares list: {squares_list}\")"
      ],
      "metadata": {
        "id": "58rtQefnwCLE",
        "colab": {
          "base_uri": "https://localhost:8080/"
        },
        "outputId": "01183ad0-a126-4702-8209-e04a87c19b4f"
      },
      "execution_count": null,
      "outputs": [
        {
          "output_type": "stream",
          "name": "stdout",
          "text": [
            "Original list: [1, 2, 3, 4, 5]\n",
            "new list containing the squares list: [1, 4, 9, 16, 25]\n"
          ]
        }
      ]
    },
    {
      "cell_type": "markdown",
      "source": [
        "Q4.  Write a Python function that checks if a given number is prime or not from 1 to 200."
      ],
      "metadata": {
        "id": "HORgzsXNHKdS"
      }
    },
    {
      "cell_type": "code",
      "source": [
        "def is_prime(num):\n",
        "\n",
        "    if num <= 1:\n",
        "        return False  # 0 and 1 are not prime numbers\n",
        "    for i in range(2, int(num**0.5) + 1):\n",
        "        if num % i == 0:\n",
        "            return False\n",
        "    return True\n",
        "\n",
        "\n",
        "# Testing the function for numbers 1 to 200\n",
        "for n in range(1, 201):\n",
        "    print(f\"{n} is {'prime' if is_prime(n) else'not prime'}\")"
      ],
      "metadata": {
        "colab": {
          "base_uri": "https://localhost:8080/"
        },
        "id": "P-NFvxX6HUBq",
        "outputId": "eeab1ea1-0343-4086-fd4d-ff47a55cbf60"
      },
      "execution_count": null,
      "outputs": [
        {
          "output_type": "stream",
          "name": "stdout",
          "text": [
            "1 is not prime\n",
            "2 is prime\n",
            "3 is prime\n",
            "4 is not prime\n",
            "5 is prime\n",
            "6 is not prime\n",
            "7 is prime\n",
            "8 is not prime\n",
            "9 is not prime\n",
            "10 is not prime\n",
            "11 is prime\n",
            "12 is not prime\n",
            "13 is prime\n",
            "14 is not prime\n",
            "15 is not prime\n",
            "16 is not prime\n",
            "17 is prime\n",
            "18 is not prime\n",
            "19 is prime\n",
            "20 is not prime\n",
            "21 is not prime\n",
            "22 is not prime\n",
            "23 is prime\n",
            "24 is not prime\n",
            "25 is not prime\n",
            "26 is not prime\n",
            "27 is not prime\n",
            "28 is not prime\n",
            "29 is prime\n",
            "30 is not prime\n",
            "31 is prime\n",
            "32 is not prime\n",
            "33 is not prime\n",
            "34 is not prime\n",
            "35 is not prime\n",
            "36 is not prime\n",
            "37 is prime\n",
            "38 is not prime\n",
            "39 is not prime\n",
            "40 is not prime\n",
            "41 is prime\n",
            "42 is not prime\n",
            "43 is prime\n",
            "44 is not prime\n",
            "45 is not prime\n",
            "46 is not prime\n",
            "47 is prime\n",
            "48 is not prime\n",
            "49 is not prime\n",
            "50 is not prime\n",
            "51 is not prime\n",
            "52 is not prime\n",
            "53 is prime\n",
            "54 is not prime\n",
            "55 is not prime\n",
            "56 is not prime\n",
            "57 is not prime\n",
            "58 is not prime\n",
            "59 is prime\n",
            "60 is not prime\n",
            "61 is prime\n",
            "62 is not prime\n",
            "63 is not prime\n",
            "64 is not prime\n",
            "65 is not prime\n",
            "66 is not prime\n",
            "67 is prime\n",
            "68 is not prime\n",
            "69 is not prime\n",
            "70 is not prime\n",
            "71 is prime\n",
            "72 is not prime\n",
            "73 is prime\n",
            "74 is not prime\n",
            "75 is not prime\n",
            "76 is not prime\n",
            "77 is not prime\n",
            "78 is not prime\n",
            "79 is prime\n",
            "80 is not prime\n",
            "81 is not prime\n",
            "82 is not prime\n",
            "83 is prime\n",
            "84 is not prime\n",
            "85 is not prime\n",
            "86 is not prime\n",
            "87 is not prime\n",
            "88 is not prime\n",
            "89 is prime\n",
            "90 is not prime\n",
            "91 is not prime\n",
            "92 is not prime\n",
            "93 is not prime\n",
            "94 is not prime\n",
            "95 is not prime\n",
            "96 is not prime\n",
            "97 is prime\n",
            "98 is not prime\n",
            "99 is not prime\n",
            "100 is not prime\n",
            "101 is prime\n",
            "102 is not prime\n",
            "103 is prime\n",
            "104 is not prime\n",
            "105 is not prime\n",
            "106 is not prime\n",
            "107 is prime\n",
            "108 is not prime\n",
            "109 is prime\n",
            "110 is not prime\n",
            "111 is not prime\n",
            "112 is not prime\n",
            "113 is prime\n",
            "114 is not prime\n",
            "115 is not prime\n",
            "116 is not prime\n",
            "117 is not prime\n",
            "118 is not prime\n",
            "119 is not prime\n",
            "120 is not prime\n",
            "121 is not prime\n",
            "122 is not prime\n",
            "123 is not prime\n",
            "124 is not prime\n",
            "125 is not prime\n",
            "126 is not prime\n",
            "127 is prime\n",
            "128 is not prime\n",
            "129 is not prime\n",
            "130 is not prime\n",
            "131 is prime\n",
            "132 is not prime\n",
            "133 is not prime\n",
            "134 is not prime\n",
            "135 is not prime\n",
            "136 is not prime\n",
            "137 is prime\n",
            "138 is not prime\n",
            "139 is prime\n",
            "140 is not prime\n",
            "141 is not prime\n",
            "142 is not prime\n",
            "143 is not prime\n",
            "144 is not prime\n",
            "145 is not prime\n",
            "146 is not prime\n",
            "147 is not prime\n",
            "148 is not prime\n",
            "149 is prime\n",
            "150 is not prime\n",
            "151 is prime\n",
            "152 is not prime\n",
            "153 is not prime\n",
            "154 is not prime\n",
            "155 is not prime\n",
            "156 is not prime\n",
            "157 is prime\n",
            "158 is not prime\n",
            "159 is not prime\n",
            "160 is not prime\n",
            "161 is not prime\n",
            "162 is not prime\n",
            "163 is prime\n",
            "164 is not prime\n",
            "165 is not prime\n",
            "166 is not prime\n",
            "167 is prime\n",
            "168 is not prime\n",
            "169 is not prime\n",
            "170 is not prime\n",
            "171 is not prime\n",
            "172 is not prime\n",
            "173 is prime\n",
            "174 is not prime\n",
            "175 is not prime\n",
            "176 is not prime\n",
            "177 is not prime\n",
            "178 is not prime\n",
            "179 is prime\n",
            "180 is not prime\n",
            "181 is prime\n",
            "182 is not prime\n",
            "183 is not prime\n",
            "184 is not prime\n",
            "185 is not prime\n",
            "186 is not prime\n",
            "187 is not prime\n",
            "188 is not prime\n",
            "189 is not prime\n",
            "190 is not prime\n",
            "191 is prime\n",
            "192 is not prime\n",
            "193 is prime\n",
            "194 is not prime\n",
            "195 is not prime\n",
            "196 is not prime\n",
            "197 is prime\n",
            "198 is not prime\n",
            "199 is prime\n",
            "200 is not prime\n"
          ]
        }
      ]
    },
    {
      "cell_type": "markdown",
      "source": [
        "Q5. Create an iterator class in Python that generates the Fibonacci sequence up\n",
        "   to a specified number of terms."
      ],
      "metadata": {
        "id": "3uIzPe9SEKOm"
      }
    },
    {
      "cell_type": "code",
      "source": [
        "def fibonacci(n):\n",
        "\n",
        "    l = [0,1]\n",
        "    for i in range(2,n):\n",
        "        l.append(l[-1]+l[-2])\n",
        "    return l\n",
        "\n",
        "#Main function\n",
        "if __name__ == \"__main__\":\n",
        "   #defining the total number of elements\n",
        "    n = 10\n",
        "\n",
        "    #calling of function\n",
        "    fibo = fibonacci(n)\n",
        "\n",
        "    #displaying the function\n",
        "    print(\"Fibonacci Series: \",*fibo)"
      ],
      "metadata": {
        "colab": {
          "base_uri": "https://localhost:8080/"
        },
        "id": "7eFqeoGIZzsQ",
        "outputId": "a142ad6d-51e7-4c71-a764-d86474f67483"
      },
      "execution_count": 15,
      "outputs": [
        {
          "output_type": "stream",
          "name": "stdout",
          "text": [
            "Fibonacci Series:  0 1 1 2 3 5 8 13 21 34\n"
          ]
        }
      ]
    },
    {
      "cell_type": "markdown",
      "source": [
        "Q6.  Write a generator function in Python that yields the powers of 2 up to a given exponent."
      ],
      "metadata": {
        "id": "SqHZRDL4LrZT"
      }
    },
    {
      "cell_type": "code",
      "source": [
        "def powers_of_two(num):\n",
        "    for exponent in range(num + 1):\n",
        "        yield 2 ** exponent\n",
        "num = 6\n",
        "print(f\"Powers of 2 up to a given exponent 2^{num}:\")\n",
        "for power in powers_of_two(num):\n",
        "    print(power,end=\" \")"
      ],
      "metadata": {
        "colab": {
          "base_uri": "https://localhost:8080/"
        },
        "id": "eCuJ1oq0Nt8c",
        "outputId": "86bb15a9-00b8-4ef5-931e-682df8e6046c"
      },
      "execution_count": null,
      "outputs": [
        {
          "output_type": "stream",
          "name": "stdout",
          "text": [
            "Powers of 2 up to a given exponent 2^6:\n",
            "1 2 4 8 16 32 64 "
          ]
        }
      ]
    },
    {
      "cell_type": "markdown",
      "source": [
        "Q7.  Implement a generator function that reads a file line by line and yields each line as a string."
      ],
      "metadata": {
        "id": "njuBZcWsO3gI"
      }
    },
    {
      "cell_type": "code",
      "source": [
        "def read_file_line_by_line(filepath):\n",
        "    try:\n",
        "        with open(filepath, 'r') as file:\n",
        "            for line in file:\n",
        "                yield line.strip()  # Yield each line after removing leading/trailing whitespace\n",
        "    except FileNotFoundError:\n",
        "        print(f\"Error: File '{filepath}' not found.\")\n",
        "        yield None # Yield None to indicate an error\n",
        "\n"
      ],
      "metadata": {
        "id": "LT6rrSRtO_Ff"
      },
      "execution_count": 1,
      "outputs": []
    },
    {
      "cell_type": "markdown",
      "source": [
        "Q8. Use a lambda function in Python to sort a list of tuples based on the second element of each tuple."
      ],
      "metadata": {
        "id": "ICSwAPz4NLib"
      }
    },
    {
      "cell_type": "code",
      "source": [
        "# Assuming your list of tuples is named 'tuples'\n",
        "tuples = [(1, 5), (3, 2), (2, 8), (4, 1)]\n",
        "\n",
        "#shorted by 1,2,3\n",
        "sorted_data = sorted(tuples, key=lambda x: x[1])\n",
        "\n",
        "sorted_data"
      ],
      "metadata": {
        "colab": {
          "base_uri": "https://localhost:8080/"
        },
        "id": "RL8GgFgpNbsc",
        "outputId": "dc31151d-a57f-4712-9abb-29e40b012376"
      },
      "execution_count": 2,
      "outputs": [
        {
          "output_type": "execute_result",
          "data": {
            "text/plain": [
              "[(4, 1), (3, 2), (1, 5), (2, 8)]"
            ]
          },
          "metadata": {},
          "execution_count": 2
        }
      ]
    },
    {
      "cell_type": "markdown",
      "source": [
        "Q9. Write a Python program that uses `map()` to convert a list of temperatures from Celsius to Fahrenheit."
      ],
      "metadata": {
        "id": "TtCc0DMCPk5Q"
      }
    },
    {
      "cell_type": "code",
      "source": [
        "def celsius_to_fahrenheit(celsius):\n",
        "\n",
        "#Converts Celsius to Fahrenheit.\n",
        "  return (celsius * 9/5) + 32\n",
        "\n",
        "# Example usage:\n",
        "celsius_temps = [0, 10, 20, 30, 40]\n",
        "fahrenheit_temps = list(map(celsius_to_fahrenheit, celsius_temps))\n",
        "\n",
        "fahrenheit_temps"
      ],
      "metadata": {
        "colab": {
          "base_uri": "https://localhost:8080/"
        },
        "id": "R2MwAJS_QIly",
        "outputId": "dd459bbb-0a15-4a6b-ac65-4bc21ce8a7c5"
      },
      "execution_count": 3,
      "outputs": [
        {
          "output_type": "execute_result",
          "data": {
            "text/plain": [
              "[32.0, 50.0, 68.0, 86.0, 104.0]"
            ]
          },
          "metadata": {},
          "execution_count": 3
        }
      ]
    },
    {
      "cell_type": "markdown",
      "source": [
        "Q10.Create a Python program that uses `filter()` to remove all the vowels from a given string."
      ],
      "metadata": {
        "id": "yXbffR12Qe5r"
      }
    },
    {
      "cell_type": "code",
      "source": [
        "def remove_vowels(input_string):\n",
        "  vowels = \"aeiouAEIOU\"\n",
        "  return \"\".join(filter(lambda char: char not in vowels, input_string))\n",
        "\n",
        "# Example usage\n",
        "string = \"Hello, World!\"\n",
        "string_without_vowels = remove_vowels(string)\n",
        "print(string_without_vowels)  # Output: Hll, Wrld!"
      ],
      "metadata": {
        "colab": {
          "base_uri": "https://localhost:8080/"
        },
        "id": "jJwfzgijQkGX",
        "outputId": "5e2655cc-69cd-46eb-d752-010c367188fa"
      },
      "execution_count": 4,
      "outputs": [
        {
          "output_type": "stream",
          "name": "stdout",
          "text": [
            "Hll, Wrld!\n"
          ]
        }
      ]
    },
    {
      "cell_type": "markdown",
      "source": [
        "Q11.Imagine an accounting routine used in a book shop. It works on a list with sublists, whi\n",
        "\n",
        "order number    Book Title ans Author       Quantity        Price Per Item\n",
        "34587           Leaning Pyton,Mark Luts        4                40.95\n",
        "98762           Pograming python,mark luts     5                56.80\n",
        "77226           Head First Python,paul barry   3                32.95\n",
        "88112      einfuhrung in python3,bernd klein   3                24.99\n",
        "\n",
        "Write a Python program, which returns a list with 2-tuples. Each tuple consists of the order number and the\n",
        "product of the price per item and the quantity. The product should be increased by 10,- € if the value of the\n",
        "order is smaller than 100,00 €.\n",
        "\n",
        "Write a Python program using lambda and map.\n"
      ],
      "metadata": {
        "id": "XAqgiRonQ2_G"
      }
    },
    {
      "cell_type": "code",
      "source": [
        "from functools import reduce\n",
        "\n",
        "orders = [\n",
        "    [34587, \"Leaning Pyton,Mark Luts\", 4, 40.95],\n",
        "    [98762, \"Pograming python,mark luts\", 5, 56.80],\n",
        "    [77226, \"Head First Python,paul barry\", 3, 32.95],\n",
        "    [88112, \"einfuhrung in python3,bernd klein\", 3, 24.99],\n",
        "]\n",
        "\n",
        "# Use lambda and map to create the list of tuples\n",
        "result = list(\n",
        "    map(\n",
        "        lambda order: (\n",
        "            order[0],\n",
        "            order[2] * order[3] + (10 if order[2] * order[3] < 100 else 0),\n",
        "        ),\n",
        "        orders,\n",
        "    )\n",
        ")\n",
        "\n",
        "result"
      ],
      "metadata": {
        "colab": {
          "base_uri": "https://localhost:8080/"
        },
        "id": "ONqBRCKhWhRP",
        "outputId": "dba1784f-07f2-4fb8-f805-89638c7e2860"
      },
      "execution_count": 12,
      "outputs": [
        {
          "output_type": "execute_result",
          "data": {
            "text/plain": [
              "[(34587, 163.8), (98762, 284.0), (77226, 108.85000000000001), (88112, 84.97)]"
            ]
          },
          "metadata": {},
          "execution_count": 12
        }
      ]
    }
  ]
}